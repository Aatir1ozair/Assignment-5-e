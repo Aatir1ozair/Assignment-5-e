{
 "cells": [
  {
   "cell_type": "code",
   "execution_count": 14,
   "id": "166c7b6d",
   "metadata": {},
   "outputs": [
    {
     "name": "stdout",
     "output_type": "stream",
     "text": [
      "Enter amount to be withdrawal: 500\n",
      "1500.0\n",
      "Enter amount to be withdrawal: 500\n",
      "2500.0\n",
      "2000\n",
      "100.0\n"
     ]
    }
   ],
   "source": [
    "#Handling a Bank Account\n",
    "\n",
    "\n",
    "\n",
    "class Account:\n",
    "    def __init__(self, title=None, balance=2000):\n",
    "        self.title = title\n",
    "        self.balance = balance\n",
    "    \n",
    "    def withdrawal(self):\n",
    "        amount=float(input(\"Enter amount to be withdrawal: \"))\n",
    "        Amount=self.balance-amount\n",
    "        return Amount\n",
    "\n",
    "    def deposit(self):\n",
    "        amount=float(input(\"Enter amount to be withdrawal: \"))\n",
    "        Amount=self.balance+amount\n",
    "        return Amount\n",
    "    def getBalance(self):\n",
    "        return self.balance\n",
    "\n",
    "class SavingsAccount(Account):\n",
    "    def __init__(self, title=None, balance=0, interestrate=0):\n",
    "            super().__init__(title, balance)\n",
    "            self.interestrate = interestrate\n",
    "    \n",
    "    def interestAmount(self):\n",
    "        interest_amount=self.interestrate*self.balance/100\n",
    "        return interest_amount\n",
    "\n",
    "\n",
    "demo1 = SavingsAccount(\"Ashish\", 2000, 5)\n",
    "print(demo1.withdrawal())\n",
    "print(demo1.deposit())\n",
    "print(demo1.getBalance())\n",
    "print(demo1.interestAmount())"
   ]
  },
  {
   "cell_type": "code",
   "execution_count": null,
   "id": "9dea9956",
   "metadata": {},
   "outputs": [],
   "source": []
  }
 ],
 "metadata": {
  "kernelspec": {
   "display_name": "Python 3 (ipykernel)",
   "language": "python",
   "name": "python3"
  },
  "language_info": {
   "codemirror_mode": {
    "name": "ipython",
    "version": 3
   },
   "file_extension": ".py",
   "mimetype": "text/x-python",
   "name": "python",
   "nbconvert_exporter": "python",
   "pygments_lexer": "ipython3",
   "version": "3.9.12"
  }
 },
 "nbformat": 4,
 "nbformat_minor": 5
}
